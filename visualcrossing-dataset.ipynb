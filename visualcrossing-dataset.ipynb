{
 "cells": [
  {
   "cell_type": "markdown",
   "metadata": {},
   "source": [
    "## Import Libraries"
   ]
  },
  {
   "cell_type": "code",
   "execution_count": 47,
   "metadata": {},
   "outputs": [],
   "source": [
    "import pandas as pd\n",
    "import requests\n",
    "import urllib.parse\n",
    "import urllib.request\n",
    "import json\n",
    "from tqdm import tqdm\n",
    "import time"
   ]
  },
  {
   "cell_type": "markdown",
   "metadata": {},
   "source": [
    "## Import Dataset"
   ]
  },
  {
   "cell_type": "code",
   "execution_count": 48,
   "metadata": {},
   "outputs": [],
   "source": [
    "df_source = pd.read_csv('./data/rishi-stores-out.csv')"
   ]
  },
  {
   "cell_type": "markdown",
   "metadata": {},
   "source": [
    "## Create Template for New Dataset\n",
    "\n",
    "First, prepare the data by creating a dictionary of all cities. Once this dictionary is made convert it into a list of lists."
   ]
  },
  {
   "cell_type": "code",
   "execution_count": 49,
   "metadata": {},
   "outputs": [
    {
     "name": "stdout",
     "output_type": "stream",
     "text": [
      "Number of unique cities: 526\n"
     ]
    }
   ],
   "source": [
    "city_dict = {}\n",
    "cities = []\n",
    "\n",
    "# make dictionary of all cities\n",
    "for i in range(len(df_source)):\n",
    "    curr_city = str(df_source.loc[i, \"city\"])\n",
    "    city_dict[curr_city] = ''\n",
    "\n",
    "# make list of lists to pass as input to make dataframe\n",
    "for key in city_dict:\n",
    "    cities += [[key]]\n",
    "print('Number of unique cities:', len(cities))"
   ]
  },
  {
   "cell_type": "code",
   "execution_count": 50,
   "metadata": {},
   "outputs": [
    {
     "name": "stdout",
     "output_type": "stream",
     "text": [
      "              City\n",
      "0          Lecanto\n",
      "1          Norfolk\n",
      "2     Philadelphia\n",
      "3        Kissimmee\n",
      "4  King of Prussia\n",
      "526\n"
     ]
    }
   ],
   "source": [
    "# create new dataframe from list of lists\n",
    "df = pd.DataFrame(cities, columns=['City'])\n",
    "print(df.head())\n",
    "print(len(df))"
   ]
  },
  {
   "cell_type": "code",
   "execution_count": 51,
   "metadata": {},
   "outputs": [],
   "source": [
    "df.to_csv('./data/city_names.csv', index=False)"
   ]
  },
  {
   "cell_type": "markdown",
   "metadata": {},
   "source": [
    "## Call API for all the cities"
   ]
  },
  {
   "cell_type": "code",
   "execution_count": 52,
   "metadata": {
    "scrolled": true
   },
   "outputs": [
    {
     "name": "stderr",
     "output_type": "stream",
     "text": [
      " 37%|███▋      | 193/526 [07:56<08:55,  1.61s/it]"
     ]
    },
    {
     "name": "stdout",
     "output_type": "stream",
     "text": [
      "['Chews Landing'] could not be found in API.\n"
     ]
    },
    {
     "name": "stderr",
     "output_type": "stream",
     "text": [
      "100%|██████████| 526/526 [20:55<00:00,  2.39s/it]\n"
     ]
    }
   ],
   "source": [
    "for city in tqdm(cities):\n",
    "    try:\n",
    "        url = 'https://weather.visualcrossing.com/VisualCrossingWebServices/rest/services/timeline/' + urllib.parse.quote_plus(str(city)) + '/2020-01-01/2021-12-31?unitGroup=metric&include=days&key=3FWLMZ9MF7M7QBH73WCBXT2QF&contentType=csv'\n",
    "        req = urllib.request.Request(url)\n",
    "        res = urllib.request.urlopen(req)\n",
    "        \n",
    "        with open('./data/historical_weather.csv',\"ab\") as f:\n",
    "            f.write(res.read())\n",
    "    except:\n",
    "        print(city, 'could not be found in API.')\n",
    "        "
   ]
  },
  {
   "cell_type": "code",
   "execution_count": null,
   "metadata": {},
   "outputs": [],
   "source": []
  }
 ],
 "metadata": {
  "kernelspec": {
   "display_name": "Python 3",
   "language": "python",
   "name": "python3"
  },
  "language_info": {
   "codemirror_mode": {
    "name": "ipython",
    "version": 3
   },
   "file_extension": ".py",
   "mimetype": "text/x-python",
   "name": "python",
   "nbconvert_exporter": "python",
   "pygments_lexer": "ipython3",
   "version": "3.8.5"
  },
  "toc": {
   "base_numbering": 1,
   "nav_menu": {},
   "number_sections": false,
   "sideBar": false,
   "skip_h1_title": false,
   "title_cell": "Table of Contents",
   "title_sidebar": "Contents",
   "toc_cell": false,
   "toc_position": {},
   "toc_section_display": false,
   "toc_window_display": false
  }
 },
 "nbformat": 4,
 "nbformat_minor": 4
}
