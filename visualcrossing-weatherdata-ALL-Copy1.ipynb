{
 "cells": [
  {
   "cell_type": "markdown",
   "id": "ad1be2f2",
   "metadata": {},
   "source": [
    "## Import Libraries"
   ]
  },
  {
   "cell_type": "code",
   "execution_count": 1,
   "id": "3018876c",
   "metadata": {},
   "outputs": [],
   "source": [
    "import pandas as pd\n",
    "import requests\n",
    "from requests.api import head\n",
    "import csv\n",
    "from tqdm import tqdm\n",
    "import time\n",
    "import datetime\n",
    "import urllib.request\n",
    "import urllib.parse\n",
    "import os\n",
    "import glob"
   ]
  },
  {
   "cell_type": "markdown",
   "id": "bc320b73",
   "metadata": {},
   "source": [
    "## Import Dataset\n",
    "\n",
    "For this version, since some of the stores were missing placekeys, and thus geocodes, the zip codes were used instead of coordinates."
   ]
  },
  {
   "cell_type": "code",
   "execution_count": 2,
   "id": "fa75c9cc",
   "metadata": {},
   "outputs": [],
   "source": [
    "df_source = pd.read_csv('/home/rishis/cs/HBS/visualcrossing-dataset/data/addresses.csv')"
   ]
  },
  {
   "cell_type": "markdown",
   "id": "e28ebccd",
   "metadata": {},
   "source": [
    "## Create Template for New Dataset\n",
    "\n",
    "First, prepare the data by creating a dictionary of all zip codes.\n",
    "\n",
    "zipcodes_dict[skey] = zipcode \n",
    "\n",
    "city_dict[skey] = city\n",
    "\n",
    "state_dict[skey] = state code"
   ]
  },
  {
   "cell_type": "markdown",
   "id": "ea9b1b23",
   "metadata": {},
   "source": [
    "### Prepare Dictionaries"
   ]
  },
  {
   "cell_type": "code",
   "execution_count": 3,
   "id": "5cdec037",
   "metadata": {},
   "outputs": [
    {
     "name": "stderr",
     "output_type": "stream",
     "text": [
      "100%|████████████████████████████████████| 1037/1037 [00:00<00:00, 55315.25it/s]\n"
     ]
    }
   ],
   "source": [
    "zipcodes_dict = {}\n",
    "city_dict = {}\n",
    "state_dict = {}\n",
    "\n",
    "# make dictionary of all cities\n",
    "for i in tqdm(range(len(df_source))):\n",
    "    curr_skey = str(df_source.loc[i, \"store_skey\"]) \n",
    "    zipcodes_dict[curr_skey] = str(df_source.loc[i, \"zip_code\"])\n",
    "    city_dict[curr_skey] = str(df_source.loc[i, \"city\"])\n",
    "    state_dict[curr_skey] = str(df_source.loc[i, \"state_code\"])"
   ]
  },
  {
   "cell_type": "markdown",
   "id": "67572038",
   "metadata": {},
   "source": [
    "### Forecast"
   ]
  },
  {
   "cell_type": "code",
   "execution_count": null,
   "id": "ef5a3e60",
   "metadata": {},
   "outputs": [
    {
     "name": "stderr",
     "output_type": "stream",
     "text": [
      "  2%|▋                                      | 17/1037 [04:53<4:05:45, 14.46s/it]"
     ]
    }
   ],
   "source": [
    "for skey in tqdm(zipcodes_dict):\n",
    "    curr_date = datetime.date(2020, 1, 1)\n",
    "    while curr_date <= datetime.date(2022, 10, 15):\n",
    "        try:\n",
    "            start_date = curr_date\n",
    "            final_date = start_date + datetime.timedelta(days=15)\n",
    "            start_date_string = str(start_date)\n",
    "            final_date_string = str(final_date)\n",
    "\n",
    "            json_data = requests.get(\"https://weather.visualcrossing.com/VisualCrossingWebServices/rest/services/timeline/\" + str(zipcodes_dict[skey]) + \"/\" + start_date_string + \"/\" + final_date_string + \"?unitGroup=us&key=3FWLMZ9MF7M7QBH73WCBXT2QF&include=fsct&contentType=json&forecastBasisDate=\" + start_date_string).json()\n",
    "            df = pd.DataFrame(json_data[\"days\"])\n",
    "            df['City'] = str(city_dict[skey])\n",
    "            df['skey'] = str(skey)\n",
    "            col = df.pop('City')\n",
    "            col2 = df.pop('skey')\n",
    "            df.insert(0, col.name, col)\n",
    "            df.insert(0, col2.name, col2)\n",
    "            filename = './data/forecast_weather/' + str(skey) + '-forecast_data.csv'\n",
    "            df.to_csv(filename, index=False)\n",
    "            curr_date = final_date + datetime.timedelta(days=1)\n",
    "        except:\n",
    "            curr_date = final_date + datetime.timedelta(days=1)\n",
    "            print('Errors with', str(city_dict[skey]), 'on', str(curr_date))\n"
   ]
  },
  {
   "cell_type": "code",
   "execution_count": null,
   "id": "0b3e3f7a",
   "metadata": {},
   "outputs": [],
   "source": [
    "!zip "
   ]
  },
  {
   "cell_type": "code",
   "execution_count": null,
   "id": "6093c38b",
   "metadata": {},
   "outputs": [],
   "source": [
    "url = 'https://weather.visualcrossing.com/VisualCrossingWebServices/rest/services/timeline/' + 'Lecanto' + '%2C' + 'FL' + '/2022-05-10/2022-09-30?unitGroup=metric&include=days&key=3FWLMZ9MF7M7QBH73WCBXT2QF&contentType=csv'\n",
    "req = urllib.request.Request(url)\n",
    "res = urllib.request.urlopen(req)\n",
    "tracker = 0\n",
    "\n",
    "with open('./data/historical_weather.csv',\"ab\") as f:\n",
    "    f.write(res.read())\n",
    "        \n",
    "df = pd.read_csv('./data/historical_weather.csv')\n",
    "for i in range(tracker, len(df)):\n",
    "    df.loc[i, \"skey\"] = 1122 \n",
    "    tracker = i\n",
    "tracker += 1\n",
    "df.to_csv('./data/historical_weather.csv')"
   ]
  },
  {
   "cell_type": "code",
   "execution_count": null,
   "id": "c173de02",
   "metadata": {},
   "outputs": [],
   "source": [
    "df = pd.read_csv('./data/historical_data.csv')\n",
    "df.head()"
   ]
  },
  {
   "cell_type": "code",
   "execution_count": null,
   "id": "2b785f31",
   "metadata": {},
   "outputs": [],
   "source": [
    "skeyDict = {}\n",
    "for i in range(len(df)):\n",
    "    skeyDict[df.loc[i, \"skey\"]] = 0\n",
    "    \n",
    "print(skeyDict[211])\n",
    "\n",
    "for key in zipcodes_dict:\n",
    "    if key not in skeyDict:\n",
    "        print(key)\n",
    "    \n"
   ]
  },
  {
   "cell_type": "code",
   "execution_count": null,
   "id": "c95ce38c",
   "metadata": {},
   "outputs": [],
   "source": [
    "zipcodes_dict['279']"
   ]
  },
  {
   "cell_type": "code",
   "execution_count": null,
   "id": "f65493c1",
   "metadata": {},
   "outputs": [],
   "source": []
  }
 ],
 "metadata": {
  "kernelspec": {
   "display_name": "Python 3 (ipykernel)",
   "language": "python",
   "name": "python3"
  },
  "language_info": {
   "codemirror_mode": {
    "name": "ipython",
    "version": 3
   },
   "file_extension": ".py",
   "mimetype": "text/x-python",
   "name": "python",
   "nbconvert_exporter": "python",
   "pygments_lexer": "ipython3",
   "version": "3.9.12"
  }
 },
 "nbformat": 4,
 "nbformat_minor": 5
}
