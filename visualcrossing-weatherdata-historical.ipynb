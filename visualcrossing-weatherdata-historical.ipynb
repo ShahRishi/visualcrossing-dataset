{
 "cells": [
  {
   "cell_type": "markdown",
   "id": "ad1be2f2",
   "metadata": {},
   "source": [
    "## Import Libraries"
   ]
  },
  {
   "cell_type": "code",
   "execution_count": 1,
   "id": "3018876c",
   "metadata": {},
   "outputs": [],
   "source": [
    "import pandas as pd\n",
    "import requests\n",
    "from requests.api import head\n",
    "import csv\n",
    "from tqdm import tqdm\n",
    "import time\n",
    "import datetime\n",
    "import urllib.request\n",
    "import urllib.parse\n",
    "import os\n",
    "import glob"
   ]
  },
  {
   "cell_type": "markdown",
   "id": "bc320b73",
   "metadata": {},
   "source": [
    "## Import Dataset\n",
    "\n",
    "For this version, since some of the stores were missing placekeys, and thus geocodes, the zip codes were used instead of coordinates."
   ]
  },
  {
   "cell_type": "code",
   "execution_count": 2,
   "id": "fa75c9cc",
   "metadata": {},
   "outputs": [],
   "source": [
    "df_source = pd.read_csv('/home/rishis/cs/HBS/visualcrossing-dataset/data/addresses.csv')"
   ]
  },
  {
   "cell_type": "markdown",
   "id": "e28ebccd",
   "metadata": {},
   "source": [
    "## Create Template for New Dataset\n",
    "\n",
    "First, prepare the data by creating a dictionary of all zip codes.\n",
    "\n",
    "zipcodes_dict[skey] = zipcode \n",
    "\n",
    "city_dict[skey] = city\n",
    "\n",
    "state_dict[skey] = state code"
   ]
  },
  {
   "cell_type": "markdown",
   "id": "365cbdd3",
   "metadata": {},
   "source": [
    "### Historical"
   ]
  },
  {
   "cell_type": "code",
   "execution_count": 3,
   "id": "5cdec037",
   "metadata": {},
   "outputs": [
    {
     "name": "stderr",
     "output_type": "stream",
     "text": [
      "100%|██████████████████████████████████████████████████| 1037/1037 [00:00<00:00, 55578.90it/s]\n"
     ]
    }
   ],
   "source": [
    "zipcodes_dict = {}\n",
    "city_dict = {}\n",
    "state_dict = {}\n",
    "\n",
    "# make dictionary of all cities\n",
    "for i in tqdm(range(len(df_source))):\n",
    "    curr_skey = str(df_source.loc[i, \"store_skey\"]) \n",
    "    zipcodes_dict[curr_skey] = str(df_source.loc[i, \"zip_code\"])\n",
    "    city_dict[curr_skey] = str(df_source.loc[i, \"city\"])\n",
    "    state_dict[curr_skey] = str(df_source.loc[i, \"state_code\"])"
   ]
  },
  {
   "cell_type": "code",
   "execution_count": 4,
   "id": "3e5b57ce",
   "metadata": {},
   "outputs": [
    {
     "name": "stderr",
     "output_type": "stream",
     "text": [
      " 25%|█████████████▍                                        | 259/1037 [22:43<37:42,  2.91s/it]"
     ]
    },
    {
     "name": "stdout",
     "output_type": "stream",
     "text": [
      "Error with Runnemede 08078 453\n",
      "Error with Bradenton 34207 940\n",
      "Error with Lakeland 33803 153\n"
     ]
    },
    {
     "name": "stderr",
     "output_type": "stream",
     "text": [
      " 89%|██████████████████████████████████████████████▍     | 927/1037 [1:29:25<08:31,  4.65s/it]"
     ]
    },
    {
     "name": "stdout",
     "output_type": "stream",
     "text": [
      "Error with Berlin 8009 1020\n"
     ]
    },
    {
     "name": "stderr",
     "output_type": "stream",
     "text": [
      "100%|███████████████████████████████████████████████████| 1037/1037 [1:38:44<00:00,  5.71s/it]\n"
     ]
    }
   ],
   "source": [
    "errors = []\n",
    "for skey in tqdm(zipcodes_dict):\n",
    "    try:\n",
    "        url = 'https://weather.visualcrossing.com/VisualCrossingWebServices/rest/services/timeline/' + str(zipcodes_dict[skey]) + '/2018-05-10/2022-10-13?unitGroup=metric&include=days&key=3FWLMZ9MF7M7QBH73WCBXT2QF&contentType=csv'\n",
    "        req = urllib.request.Request(url)\n",
    "        res = urllib.request.urlopen(req)\n",
    "        \n",
    "        with open('./data/historical_weather/' + str(skey) + '-historical_weather.csv',\"ab\") as f:\n",
    "            f.write(res.read())\n",
    "            \n",
    "    except:\n",
    "        print(\"Error with\", city_dict[skey], zipcodes_dict[skey], skey)\n",
    "        errors += [skey]"
   ]
  },
  {
   "cell_type": "code",
   "execution_count": 5,
   "id": "dacd4d25",
   "metadata": {},
   "outputs": [
    {
     "name": "stdout",
     "output_type": "stream",
     "text": [
      "['453', '940', '153', '1020']\n"
     ]
    }
   ],
   "source": [
    "print(errors)"
   ]
  },
  {
   "cell_type": "code",
   "execution_count": null,
   "id": "22553281",
   "metadata": {},
   "outputs": [],
   "source": [
    "\"\"\"\n",
    "--------------------------DEPRECATED--------------------------\n",
    "os.chdir('/home/rishis/cs/HBS/visualcrossing-dataset/data/historical-weather')\n",
    "extension = 'csv'\n",
    "all_filenames = [i for i in glob.glob('*.{}'.format(extension))]\n",
    "combined_csv = pd.concat([pd.read_csv(f) for f in all_filenames])\n",
    "\n",
    "combined_csv.to_csv('../historical_data.csv', index=False, encoding='utf-8-sig')\n",
    "\n",
    "files = os.listdir('/home/rishis/cs/HBS/visualcrossing-dataset/data/historical-weather')\n",
    "fileDict = {}\n",
    "\n",
    "buildDF = pd.read_csv('/home/rishis/cs/HBS/visualcrossing-dataset/data/historical-weather/' + str(files[0]))\n",
    "\n",
    "for i in range(1, len(files)):\n",
    "    newDF = pd.read_csv('/home/rishis/cs/HBS/visualcrossing-dataset/data/historical-weather/' + str(files[i]))\n",
    "    buildDF = pd.concat(buildDF, newDF)\n",
    "buildDF.head()\n",
    "--------------------------DEPRECATED--------------------------\n",
    "\"\"\""
   ]
  },
  {
   "cell_type": "code",
   "execution_count": null,
   "id": "6093c38b",
   "metadata": {},
   "outputs": [],
   "source": [
    "\"\"\"\n",
    "url = 'https://weather.visualcrossing.com/VisualCrossingWebServices/rest/services/timeline/' + 'Lecanto' + '%2C' + 'FL' + '/2022-05-10/2022-09-30?unitGroup=metric&include=days&key=3FWLMZ9MF7M7QBH73WCBXT2QF&contentType=csv'\n",
    "req = urllib.request.Request(url)\n",
    "res = urllib.request.urlopen(req)\n",
    "tracker = 0\n",
    "\n",
    "with open('./data/historical_weather.csv',\"ab\") as f:\n",
    "    f.write(res.read())\n",
    "        \n",
    "df = pd.read_csv('./data/historical_weather.csv')\n",
    "for i in range(tracker, len(df)):\n",
    "    df.loc[i, \"skey\"] = 1122 \n",
    "    tracker = i\n",
    "tracker += 1\n",
    "df.to_csv('./data/historical_weather.csv')\n",
    "\"\"\""
   ]
  },
  {
   "cell_type": "code",
   "execution_count": null,
   "id": "c173de02",
   "metadata": {},
   "outputs": [],
   "source": [
    "\"\"\"\n",
    "df = pd.read_csv('./data/historical_data.csv')\n",
    "df.head()\n",
    "\"\"\""
   ]
  },
  {
   "cell_type": "code",
   "execution_count": null,
   "id": "2b785f31",
   "metadata": {},
   "outputs": [],
   "source": [
    "\"\"\"\n",
    "skeyDict = {}\n",
    "for i in range(len(df)):\n",
    "    skeyDict[df.loc[i, \"skey\"]] = 0\n",
    "    \n",
    "print(skeyDict[211])\n",
    "\n",
    "for key in zipcodes_dict:\n",
    "    if key not in skeyDict:\n",
    "        print(key)\n",
    "\"\"\"    \n"
   ]
  }
 ],
 "metadata": {
  "kernelspec": {
   "display_name": "Python 3 (ipykernel)",
   "language": "python",
   "name": "python3"
  },
  "language_info": {
   "codemirror_mode": {
    "name": "ipython",
    "version": 3
   },
   "file_extension": ".py",
   "mimetype": "text/x-python",
   "name": "python",
   "nbconvert_exporter": "python",
   "pygments_lexer": "ipython3",
   "version": "3.9.12"
  }
 },
 "nbformat": 4,
 "nbformat_minor": 5
}
