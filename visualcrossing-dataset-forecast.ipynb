{
 "cells": [
  {
   "cell_type": "markdown",
   "metadata": {},
   "source": [
    "## Import Libraries"
   ]
  },
  {
   "cell_type": "code",
   "execution_count": 5,
   "metadata": {},
   "outputs": [],
   "source": [
    "import pandas as pd\n",
    "import requests\n",
    "import urllib.parse\n",
    "import urllib.request\n",
    "import json\n",
    "from tqdm import tqdm\n",
    "import time\n",
    "import datetime"
   ]
  },
  {
   "cell_type": "markdown",
   "metadata": {},
   "source": [
    "## Import Dataset"
   ]
  },
  {
   "cell_type": "code",
   "execution_count": 6,
   "metadata": {},
   "outputs": [],
   "source": [
    "df_source = pd.read_csv('./data/rishi-stores-out.csv')"
   ]
  },
  {
   "cell_type": "markdown",
   "metadata": {},
   "source": [
    "## Create Template for New Dataset"
   ]
  },
  {
   "cell_type": "code",
   "execution_count": 7,
   "metadata": {},
   "outputs": [
    {
     "name": "stdout",
     "output_type": "stream",
     "text": [
      "Number of unique cities: 526\n"
     ]
    }
   ],
   "source": [
    "city_dict = {}\n",
    "cities = []\n",
    "\n",
    "# make dictionary of all cities\n",
    "for i in range(len(df_source)):\n",
    "    curr_city = str(df_source.loc[i, \"city\"])\n",
    "    city_dict[curr_city] = ''\n",
    "\n",
    "# make list of lists to pass as input to make dataframe\n",
    "for key in city_dict:\n",
    "    cities += [[key]]\n",
    "print('Number of unique cities:', len(cities))"
   ]
  },
  {
   "cell_type": "code",
   "execution_count": null,
   "metadata": {},
   "outputs": [
    {
     "name": "stderr",
     "output_type": "stream",
     "text": [
      " 16%|█▌        | 84/526 [16:45<1:21:47, 11.10s/it]"
     ]
    },
    {
     "name": "stdout",
     "output_type": "stream",
     "text": [
      "Errors with Gap on 2020-01-17\n",
      "Errors with Gap on 2020-02-02\n",
      "Errors with Gap on 2020-02-18\n",
      "Errors with Gap on 2020-03-05\n",
      "Errors with Gap on 2020-03-21\n",
      "Errors with Gap on 2020-04-06\n",
      "Errors with Gap on 2020-04-22\n",
      "Errors with Gap on 2020-05-08\n",
      "Errors with Gap on 2020-05-24\n",
      "Errors with Gap on 2020-06-09\n",
      "Errors with Gap on 2020-06-25\n",
      "Errors with Gap on 2020-07-11\n",
      "Errors with Gap on 2020-07-27\n",
      "Errors with Gap on 2020-08-12\n",
      "Errors with Gap on 2020-08-28\n",
      "Errors with Gap on 2020-09-13\n",
      "Errors with Gap on 2020-09-29\n",
      "Errors with Gap on 2020-10-15\n",
      "Errors with Gap on 2020-10-31\n",
      "Errors with Gap on 2020-11-16\n",
      "Errors with Gap on 2020-12-02\n",
      "Errors with Gap on 2020-12-18\n",
      "Errors with Gap on 2021-01-03\n",
      "Errors with Gap on 2021-01-19\n",
      "Errors with Gap on 2021-02-04\n",
      "Errors with Gap on 2021-02-20\n",
      "Errors with Gap on 2021-03-08\n",
      "Errors with Gap on 2021-03-24\n",
      "Errors with Gap on 2021-04-09\n",
      "Errors with Gap on 2021-04-25\n",
      "Errors with Gap on 2021-05-11\n",
      "Errors with Gap on 2021-05-27\n",
      "Errors with Gap on 2021-06-12\n",
      "Errors with Gap on 2021-06-28\n",
      "Errors with Gap on 2021-07-14\n",
      "Errors with Gap on 2021-07-30\n",
      "Errors with Gap on 2021-08-15\n",
      "Errors with Gap on 2021-08-31\n",
      "Errors with Gap on 2021-09-16\n",
      "Errors with Gap on 2021-10-02\n",
      "Errors with Gap on 2021-10-18\n",
      "Errors with Gap on 2021-11-03\n",
      "Errors with Gap on 2021-11-19\n",
      "Errors with Gap on 2021-12-05\n"
     ]
    },
    {
     "name": "stderr",
     "output_type": "stream",
     "text": [
      "\r",
      " 16%|█▌        | 85/526 [16:50<1:08:36,  9.33s/it]"
     ]
    },
    {
     "name": "stdout",
     "output_type": "stream",
     "text": [
      "Errors with Gap on 2021-12-21\n",
      "Errors with Gap on 2022-01-06\n"
     ]
    },
    {
     "name": "stderr",
     "output_type": "stream",
     "text": [
      " 28%|██▊       | 149/526 [29:10<1:10:13, 11.18s/it]"
     ]
    }
   ],
   "source": [
    "for city in tqdm(cities):\n",
    "    curr_date = datetime.date(2020, 1, 1)\n",
    "    while curr_date <= datetime.date(2021, 12, 31):\n",
    "        try:\n",
    "            start_date = curr_date\n",
    "            final_date = start_date + datetime.timedelta(days=15)\n",
    "            start_date_string = str(start_date)\n",
    "            final_date_string = str(final_date)\n",
    "\n",
    "            json_data = requests.get(\"https://weather.visualcrossing.com/VisualCrossingWebServices/rest/services/timeline/\" + urllib.parse.quote_plus(city[0]) + \"/\" + start_date_string + \"/\" + final_date_string + \"?unitGroup=us&key=3FWLMZ9MF7M7QBH73WCBXT2QF&contentType=json&forecastBasisDate=\" + start_date_string).json()\n",
    "            df = pd.DataFrame(json_data[\"days\"])\n",
    "            df['City'] = city[0]\n",
    "            col = df.pop('City')\n",
    "            df.insert(0, col.name, col)\n",
    "            df.to_csv('forecast_data.csv', index=False, mode='a', header=False)\n",
    "            curr_date = final_date + datetime.timedelta(days=1)\n",
    "        except:\n",
    "            curr_date = final_date + datetime.timedelta(days=1)\n",
    "            print('Errors with', str(city[0]), 'on', str(curr_date))"
   ]
  }
 ],
 "metadata": {
  "kernelspec": {
   "display_name": "Python 3",
   "language": "python",
   "name": "python3"
  },
  "language_info": {
   "codemirror_mode": {
    "name": "ipython",
    "version": 3
   },
   "file_extension": ".py",
   "mimetype": "text/x-python",
   "name": "python",
   "nbconvert_exporter": "python",
   "pygments_lexer": "ipython3",
   "version": "3.8.5"
  },
  "toc": {
   "base_numbering": 1,
   "nav_menu": {},
   "number_sections": false,
   "sideBar": false,
   "skip_h1_title": false,
   "title_cell": "Table of Contents",
   "title_sidebar": "Contents",
   "toc_cell": false,
   "toc_position": {},
   "toc_section_display": false,
   "toc_window_display": false
  }
 },
 "nbformat": 4,
 "nbformat_minor": 4
}
